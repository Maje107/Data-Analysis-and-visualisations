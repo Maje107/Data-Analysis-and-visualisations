{
 "cells": [
  {
   "cell_type": "code",
   "execution_count": null,
   "id": "0e6a7161-dbab-4f2c-b538-50d20d6a2d78",
   "metadata": {},
   "outputs": [
    {
     "ename": "",
     "evalue": "",
     "output_type": "error",
     "traceback": [
      "\u001b[1;31mRunning cells with 'Python 3.13.2' requires the ipykernel package.\n",
      "\u001b[1;31m<a href='command:jupyter.createPythonEnvAndSelectController'>Create a Python Environment</a> with the required packages.\n",
      "\u001b[1;31mOr install 'ipykernel' using the command: 'c:/Users/Admin/AppData/Local/Programs/Python/Python313/python.exe -m pip install ipykernel -U --user --force-reinstall'"
     ]
    }
   ],
   "source": [
    "import matplotlib.pyplot as plt\n",
    "import pandas as pd\n",
    "import seaborn as sns"
   ]
  },
  {
   "cell_type": "code",
   "execution_count": null,
   "id": "d4893d48-1348-4670-9275-e822a35b1ba7",
   "metadata": {},
   "outputs": [],
   "source": [
    "df.info"
   ]
  },
  {
   "cell_type": "markdown",
   "id": "0c20927a-eb64-406a-8b21-de23ca2ac030",
   "metadata": {},
   "source": [
    "###### df = pd.read_csv('unable_to_afford.csv')"
   ]
  },
  {
   "cell_type": "code",
   "execution_count": null,
   "id": "00e4af89-4966-4b4a-85b2-33bf86487ae2",
   "metadata": {},
   "outputs": [],
   "source": [
    "\n",
    "df.head()"
   ]
  },
  {
   "cell_type": "code",
   "execution_count": null,
   "id": "38ff680f-6c6f-4c5b-a3b9-1c88e2b07c63",
   "metadata": {},
   "outputs": [],
   "source": [
    "df.duplicated().count()"
   ]
  },
  {
   "cell_type": "code",
   "execution_count": null,
   "id": "4da23378-7e21-4153-975f-c295c86ad84f",
   "metadata": {},
   "outputs": [],
   "source": [
    "df.isnull().sum()"
   ]
  },
  {
   "cell_type": "code",
   "execution_count": null,
   "id": "bbd2399d-eeb9-47f3-a8c3-fa38e93814da",
   "metadata": {},
   "outputs": [],
   "source": [
    "df.describe()"
   ]
  },
  {
   "cell_type": "code",
   "execution_count": null,
   "id": "dc6e31b6-144c-4a63-8f92-bfbead292508",
   "metadata": {},
   "outputs": [],
   "source": [
    "df.sample(10)"
   ]
  },
  {
   "cell_type": "code",
   "execution_count": null,
   "id": "a0a66f8f-bd89-4986-aa52-8689fff41908",
   "metadata": {},
   "outputs": [],
   "source": []
  },
  {
   "cell_type": "code",
   "execution_count": null,
   "id": "ca34927d-28ad-4cf2-b888-8f421a4d8dda",
   "metadata": {},
   "outputs": [],
   "source": [
    "df2 = pd.read_csv('severe food insecurity.csv')"
   ]
  },
  {
   "cell_type": "code",
   "execution_count": null,
   "id": "f1735c42-c0c7-4408-875c-3e6ab0e93b21",
   "metadata": {},
   "outputs": [],
   "source": [
    "df2.info()"
   ]
  },
  {
   "cell_type": "code",
   "execution_count": null,
   "id": "283ca339-5f9c-46b5-beb9-7a92c13e0a96",
   "metadata": {},
   "outputs": [],
   "source": [
    "df2.head()"
   ]
  },
  {
   "cell_type": "code",
   "execution_count": null,
   "id": "5ddf5e2e-6969-48c1-adf2-1cf331be052e",
   "metadata": {},
   "outputs": [],
   "source": [
    "df2.isnull().sum()"
   ]
  },
  {
   "cell_type": "code",
   "execution_count": null,
   "id": "efdddffa-00a1-4650-921c-33946c1c1e9b",
   "metadata": {},
   "outputs": [],
   "source": []
  }
 ],
 "metadata": {
  "kernelspec": {
   "display_name": "Python 3",
   "language": "python",
   "name": "python3"
  },
  "language_info": {
   "codemirror_mode": {
    "name": "ipython",
    "version": 3
   },
   "file_extension": ".py",
   "mimetype": "text/x-python",
   "name": "python",
   "nbconvert_exporter": "python",
   "pygments_lexer": "ipython3",
   "version": "3.13.2"
  }
 },
 "nbformat": 4,
 "nbformat_minor": 5
}
